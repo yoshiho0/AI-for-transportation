{
  "cells": [
    {
      "cell_type": "markdown",
      "metadata": {
        "id": "view-in-github",
        "colab_type": "text"
      },
      "source": [
        "<a href=\"https://colab.research.google.com/github/yoshiho0/AI-for-transportation/blob/main/Exercise_6_Dimensionality_Reduction_checkpoint_.ipynb\" target=\"_parent\"><img src=\"https://colab.research.google.com/assets/colab-badge.svg\" alt=\"Open In Colab\"/></a>"
      ]
    },
    {
      "cell_type": "markdown",
      "id": "d99b8949",
      "metadata": {
        "id": "d99b8949"
      },
      "source": [
        "# Exercise 6 - Dimensionality Reduction with PCA, Kernel PCA and FA(Factor Analysis)"
      ]
    },
    {
      "cell_type": "markdown",
      "id": "638c8b58-efde-47b9-b114-93b35d659f68",
      "metadata": {
        "id": "638c8b58-efde-47b9-b114-93b35d659f68"
      },
      "source": [
        "Our goal is to explore different tools for reducing the number of dimensions in our high-dimensional traffic flow dataset. Each technique has a unique approach to identifying and preserving the most important patterns and information within the data:\n",
        "\n",
        "PCA finds components that maximize explained variance.\n",
        "Kernel PCA extends this to discover non-linear patterns.\n",
        "FA models the data to uncover hidden latent factors that explain feature correlations.\n",
        "We will follow a common workflow for each:\n",
        "\n",
        "Standardize the data (a crucial step for PCA and Kernel PCA, and highly beneficial for FA).\n",
        "Apply the tool to project our data onto a new, lower-dimensional subspace.\n",
        "Analyze the results to understand what information is preserved and how to interpret it.\n",
        "Discuss the trade-offs and implications of using each technique."
      ]
    },
    {
      "cell_type": "markdown",
      "id": "de27be78",
      "metadata": {
        "id": "de27be78"
      },
      "source": [
        "## Data preparation\n",
        "The provided dataset is 5-minute observations on highway microwave sensors and needs to be in a format ready for dimensionality reduction. Thus, we represent days as ordered vectors of day-time observations of size 288 (there are 288, 5-minute time observations).\n",
        "\n",
        "The original dataset is in the long format (each row represents one 5 minutes interval)."
      ]
    },
    {
      "cell_type": "code",
      "execution_count": 5,
      "id": "0dd69895",
      "metadata": {
        "id": "0dd69895",
        "outputId": "2fe91177-593c-4f0a-b01e-d37418ec160d",
        "colab": {
          "base_uri": "https://localhost:8080/",
          "height": 424
        }
      },
      "outputs": [
        {
          "output_type": "execute_result",
          "data": {
            "text/plain": [
              "            PORTAL      Date time_from   time_to  Interval_5  SPEED_MS_AVG  \\\n",
              "0       E4S 56,780  20210101  00:00:00  00:05:00           0         18.56   \n",
              "1       E4S 56,780  20210101  00:05:00  00:10:00           1         20.39   \n",
              "2       E4S 56,780  20210101  00:10:00  00:15:00           2         19.27   \n",
              "3       E4S 56,780  20210101  00:15:00  00:20:00           3         19.52   \n",
              "4       E4S 56,780  20210101  00:20:00  00:25:00           4         20.52   \n",
              "...            ...       ...       ...       ...         ...           ...   \n",
              "104838  E4S 56,780  20211231  23:35:00  23:40:00         283         19.58   \n",
              "104839  E4S 56,780  20211231  23:40:00  23:45:00         284         19.47   \n",
              "104840  E4S 56,780  20211231  23:45:00  23:50:00         285         19.77   \n",
              "104841  E4S 56,780  20211231  23:50:00  23:55:00         286         18.79   \n",
              "104842  E4S 56,780  20211231  23:55:00  24:00:00         287         18.75   \n",
              "\n",
              "        flow  \n",
              "0         39  \n",
              "1         18  \n",
              "2         26  \n",
              "3         52  \n",
              "4         52  \n",
              "...      ...  \n",
              "104838   115  \n",
              "104839    87  \n",
              "104840   130  \n",
              "104841   129  \n",
              "104842   117  \n",
              "\n",
              "[104843 rows x 7 columns]"
            ],
            "text/html": [
              "\n",
              "  <div id=\"df-fa5611af-db75-42b6-a7a0-8453bd872a58\" class=\"colab-df-container\">\n",
              "    <div>\n",
              "<style scoped>\n",
              "    .dataframe tbody tr th:only-of-type {\n",
              "        vertical-align: middle;\n",
              "    }\n",
              "\n",
              "    .dataframe tbody tr th {\n",
              "        vertical-align: top;\n",
              "    }\n",
              "\n",
              "    .dataframe thead th {\n",
              "        text-align: right;\n",
              "    }\n",
              "</style>\n",
              "<table border=\"1\" class=\"dataframe\">\n",
              "  <thead>\n",
              "    <tr style=\"text-align: right;\">\n",
              "      <th></th>\n",
              "      <th>PORTAL</th>\n",
              "      <th>Date</th>\n",
              "      <th>time_from</th>\n",
              "      <th>time_to</th>\n",
              "      <th>Interval_5</th>\n",
              "      <th>SPEED_MS_AVG</th>\n",
              "      <th>flow</th>\n",
              "    </tr>\n",
              "  </thead>\n",
              "  <tbody>\n",
              "    <tr>\n",
              "      <th>0</th>\n",
              "      <td>E4S 56,780</td>\n",
              "      <td>20210101</td>\n",
              "      <td>00:00:00</td>\n",
              "      <td>00:05:00</td>\n",
              "      <td>0</td>\n",
              "      <td>18.56</td>\n",
              "      <td>39</td>\n",
              "    </tr>\n",
              "    <tr>\n",
              "      <th>1</th>\n",
              "      <td>E4S 56,780</td>\n",
              "      <td>20210101</td>\n",
              "      <td>00:05:00</td>\n",
              "      <td>00:10:00</td>\n",
              "      <td>1</td>\n",
              "      <td>20.39</td>\n",
              "      <td>18</td>\n",
              "    </tr>\n",
              "    <tr>\n",
              "      <th>2</th>\n",
              "      <td>E4S 56,780</td>\n",
              "      <td>20210101</td>\n",
              "      <td>00:10:00</td>\n",
              "      <td>00:15:00</td>\n",
              "      <td>2</td>\n",
              "      <td>19.27</td>\n",
              "      <td>26</td>\n",
              "    </tr>\n",
              "    <tr>\n",
              "      <th>3</th>\n",
              "      <td>E4S 56,780</td>\n",
              "      <td>20210101</td>\n",
              "      <td>00:15:00</td>\n",
              "      <td>00:20:00</td>\n",
              "      <td>3</td>\n",
              "      <td>19.52</td>\n",
              "      <td>52</td>\n",
              "    </tr>\n",
              "    <tr>\n",
              "      <th>4</th>\n",
              "      <td>E4S 56,780</td>\n",
              "      <td>20210101</td>\n",
              "      <td>00:20:00</td>\n",
              "      <td>00:25:00</td>\n",
              "      <td>4</td>\n",
              "      <td>20.52</td>\n",
              "      <td>52</td>\n",
              "    </tr>\n",
              "    <tr>\n",
              "      <th>...</th>\n",
              "      <td>...</td>\n",
              "      <td>...</td>\n",
              "      <td>...</td>\n",
              "      <td>...</td>\n",
              "      <td>...</td>\n",
              "      <td>...</td>\n",
              "      <td>...</td>\n",
              "    </tr>\n",
              "    <tr>\n",
              "      <th>104838</th>\n",
              "      <td>E4S 56,780</td>\n",
              "      <td>20211231</td>\n",
              "      <td>23:35:00</td>\n",
              "      <td>23:40:00</td>\n",
              "      <td>283</td>\n",
              "      <td>19.58</td>\n",
              "      <td>115</td>\n",
              "    </tr>\n",
              "    <tr>\n",
              "      <th>104839</th>\n",
              "      <td>E4S 56,780</td>\n",
              "      <td>20211231</td>\n",
              "      <td>23:40:00</td>\n",
              "      <td>23:45:00</td>\n",
              "      <td>284</td>\n",
              "      <td>19.47</td>\n",
              "      <td>87</td>\n",
              "    </tr>\n",
              "    <tr>\n",
              "      <th>104840</th>\n",
              "      <td>E4S 56,780</td>\n",
              "      <td>20211231</td>\n",
              "      <td>23:45:00</td>\n",
              "      <td>23:50:00</td>\n",
              "      <td>285</td>\n",
              "      <td>19.77</td>\n",
              "      <td>130</td>\n",
              "    </tr>\n",
              "    <tr>\n",
              "      <th>104841</th>\n",
              "      <td>E4S 56,780</td>\n",
              "      <td>20211231</td>\n",
              "      <td>23:50:00</td>\n",
              "      <td>23:55:00</td>\n",
              "      <td>286</td>\n",
              "      <td>18.79</td>\n",
              "      <td>129</td>\n",
              "    </tr>\n",
              "    <tr>\n",
              "      <th>104842</th>\n",
              "      <td>E4S 56,780</td>\n",
              "      <td>20211231</td>\n",
              "      <td>23:55:00</td>\n",
              "      <td>24:00:00</td>\n",
              "      <td>287</td>\n",
              "      <td>18.75</td>\n",
              "      <td>117</td>\n",
              "    </tr>\n",
              "  </tbody>\n",
              "</table>\n",
              "<p>104843 rows × 7 columns</p>\n",
              "</div>\n",
              "    <div class=\"colab-df-buttons\">\n",
              "\n",
              "  <div class=\"colab-df-container\">\n",
              "    <button class=\"colab-df-convert\" onclick=\"convertToInteractive('df-fa5611af-db75-42b6-a7a0-8453bd872a58')\"\n",
              "            title=\"Convert this dataframe to an interactive table.\"\n",
              "            style=\"display:none;\">\n",
              "\n",
              "  <svg xmlns=\"http://www.w3.org/2000/svg\" height=\"24px\" viewBox=\"0 -960 960 960\">\n",
              "    <path d=\"M120-120v-720h720v720H120Zm60-500h600v-160H180v160Zm220 220h160v-160H400v160Zm0 220h160v-160H400v160ZM180-400h160v-160H180v160Zm440 0h160v-160H620v160ZM180-180h160v-160H180v160Zm440 0h160v-160H620v160Z\"/>\n",
              "  </svg>\n",
              "    </button>\n",
              "\n",
              "  <style>\n",
              "    .colab-df-container {\n",
              "      display:flex;\n",
              "      gap: 12px;\n",
              "    }\n",
              "\n",
              "    .colab-df-convert {\n",
              "      background-color: #E8F0FE;\n",
              "      border: none;\n",
              "      border-radius: 50%;\n",
              "      cursor: pointer;\n",
              "      display: none;\n",
              "      fill: #1967D2;\n",
              "      height: 32px;\n",
              "      padding: 0 0 0 0;\n",
              "      width: 32px;\n",
              "    }\n",
              "\n",
              "    .colab-df-convert:hover {\n",
              "      background-color: #E2EBFA;\n",
              "      box-shadow: 0px 1px 2px rgba(60, 64, 67, 0.3), 0px 1px 3px 1px rgba(60, 64, 67, 0.15);\n",
              "      fill: #174EA6;\n",
              "    }\n",
              "\n",
              "    .colab-df-buttons div {\n",
              "      margin-bottom: 4px;\n",
              "    }\n",
              "\n",
              "    [theme=dark] .colab-df-convert {\n",
              "      background-color: #3B4455;\n",
              "      fill: #D2E3FC;\n",
              "    }\n",
              "\n",
              "    [theme=dark] .colab-df-convert:hover {\n",
              "      background-color: #434B5C;\n",
              "      box-shadow: 0px 1px 3px 1px rgba(0, 0, 0, 0.15);\n",
              "      filter: drop-shadow(0px 1px 2px rgba(0, 0, 0, 0.3));\n",
              "      fill: #FFFFFF;\n",
              "    }\n",
              "  </style>\n",
              "\n",
              "    <script>\n",
              "      const buttonEl =\n",
              "        document.querySelector('#df-fa5611af-db75-42b6-a7a0-8453bd872a58 button.colab-df-convert');\n",
              "      buttonEl.style.display =\n",
              "        google.colab.kernel.accessAllowed ? 'block' : 'none';\n",
              "\n",
              "      async function convertToInteractive(key) {\n",
              "        const element = document.querySelector('#df-fa5611af-db75-42b6-a7a0-8453bd872a58');\n",
              "        const dataTable =\n",
              "          await google.colab.kernel.invokeFunction('convertToInteractive',\n",
              "                                                    [key], {});\n",
              "        if (!dataTable) return;\n",
              "\n",
              "        const docLinkHtml = 'Like what you see? Visit the ' +\n",
              "          '<a target=\"_blank\" href=https://colab.research.google.com/notebooks/data_table.ipynb>data table notebook</a>'\n",
              "          + ' to learn more about interactive tables.';\n",
              "        element.innerHTML = '';\n",
              "        dataTable['output_type'] = 'display_data';\n",
              "        await google.colab.output.renderOutput(dataTable, element);\n",
              "        const docLink = document.createElement('div');\n",
              "        docLink.innerHTML = docLinkHtml;\n",
              "        element.appendChild(docLink);\n",
              "      }\n",
              "    </script>\n",
              "  </div>\n",
              "\n",
              "\n",
              "    <div id=\"df-9b495f67-221f-4d18-87e2-1c8ffe2ec4e5\">\n",
              "      <button class=\"colab-df-quickchart\" onclick=\"quickchart('df-9b495f67-221f-4d18-87e2-1c8ffe2ec4e5')\"\n",
              "                title=\"Suggest charts\"\n",
              "                style=\"display:none;\">\n",
              "\n",
              "<svg xmlns=\"http://www.w3.org/2000/svg\" height=\"24px\"viewBox=\"0 0 24 24\"\n",
              "     width=\"24px\">\n",
              "    <g>\n",
              "        <path d=\"M19 3H5c-1.1 0-2 .9-2 2v14c0 1.1.9 2 2 2h14c1.1 0 2-.9 2-2V5c0-1.1-.9-2-2-2zM9 17H7v-7h2v7zm4 0h-2V7h2v10zm4 0h-2v-4h2v4z\"/>\n",
              "    </g>\n",
              "</svg>\n",
              "      </button>\n",
              "\n",
              "<style>\n",
              "  .colab-df-quickchart {\n",
              "      --bg-color: #E8F0FE;\n",
              "      --fill-color: #1967D2;\n",
              "      --hover-bg-color: #E2EBFA;\n",
              "      --hover-fill-color: #174EA6;\n",
              "      --disabled-fill-color: #AAA;\n",
              "      --disabled-bg-color: #DDD;\n",
              "  }\n",
              "\n",
              "  [theme=dark] .colab-df-quickchart {\n",
              "      --bg-color: #3B4455;\n",
              "      --fill-color: #D2E3FC;\n",
              "      --hover-bg-color: #434B5C;\n",
              "      --hover-fill-color: #FFFFFF;\n",
              "      --disabled-bg-color: #3B4455;\n",
              "      --disabled-fill-color: #666;\n",
              "  }\n",
              "\n",
              "  .colab-df-quickchart {\n",
              "    background-color: var(--bg-color);\n",
              "    border: none;\n",
              "    border-radius: 50%;\n",
              "    cursor: pointer;\n",
              "    display: none;\n",
              "    fill: var(--fill-color);\n",
              "    height: 32px;\n",
              "    padding: 0;\n",
              "    width: 32px;\n",
              "  }\n",
              "\n",
              "  .colab-df-quickchart:hover {\n",
              "    background-color: var(--hover-bg-color);\n",
              "    box-shadow: 0 1px 2px rgba(60, 64, 67, 0.3), 0 1px 3px 1px rgba(60, 64, 67, 0.15);\n",
              "    fill: var(--button-hover-fill-color);\n",
              "  }\n",
              "\n",
              "  .colab-df-quickchart-complete:disabled,\n",
              "  .colab-df-quickchart-complete:disabled:hover {\n",
              "    background-color: var(--disabled-bg-color);\n",
              "    fill: var(--disabled-fill-color);\n",
              "    box-shadow: none;\n",
              "  }\n",
              "\n",
              "  .colab-df-spinner {\n",
              "    border: 2px solid var(--fill-color);\n",
              "    border-color: transparent;\n",
              "    border-bottom-color: var(--fill-color);\n",
              "    animation:\n",
              "      spin 1s steps(1) infinite;\n",
              "  }\n",
              "\n",
              "  @keyframes spin {\n",
              "    0% {\n",
              "      border-color: transparent;\n",
              "      border-bottom-color: var(--fill-color);\n",
              "      border-left-color: var(--fill-color);\n",
              "    }\n",
              "    20% {\n",
              "      border-color: transparent;\n",
              "      border-left-color: var(--fill-color);\n",
              "      border-top-color: var(--fill-color);\n",
              "    }\n",
              "    30% {\n",
              "      border-color: transparent;\n",
              "      border-left-color: var(--fill-color);\n",
              "      border-top-color: var(--fill-color);\n",
              "      border-right-color: var(--fill-color);\n",
              "    }\n",
              "    40% {\n",
              "      border-color: transparent;\n",
              "      border-right-color: var(--fill-color);\n",
              "      border-top-color: var(--fill-color);\n",
              "    }\n",
              "    60% {\n",
              "      border-color: transparent;\n",
              "      border-right-color: var(--fill-color);\n",
              "    }\n",
              "    80% {\n",
              "      border-color: transparent;\n",
              "      border-right-color: var(--fill-color);\n",
              "      border-bottom-color: var(--fill-color);\n",
              "    }\n",
              "    90% {\n",
              "      border-color: transparent;\n",
              "      border-bottom-color: var(--fill-color);\n",
              "    }\n",
              "  }\n",
              "</style>\n",
              "\n",
              "      <script>\n",
              "        async function quickchart(key) {\n",
              "          const quickchartButtonEl =\n",
              "            document.querySelector('#' + key + ' button');\n",
              "          quickchartButtonEl.disabled = true;  // To prevent multiple clicks.\n",
              "          quickchartButtonEl.classList.add('colab-df-spinner');\n",
              "          try {\n",
              "            const charts = await google.colab.kernel.invokeFunction(\n",
              "                'suggestCharts', [key], {});\n",
              "          } catch (error) {\n",
              "            console.error('Error during call to suggestCharts:', error);\n",
              "          }\n",
              "          quickchartButtonEl.classList.remove('colab-df-spinner');\n",
              "          quickchartButtonEl.classList.add('colab-df-quickchart-complete');\n",
              "        }\n",
              "        (() => {\n",
              "          let quickchartButtonEl =\n",
              "            document.querySelector('#df-9b495f67-221f-4d18-87e2-1c8ffe2ec4e5 button');\n",
              "          quickchartButtonEl.style.display =\n",
              "            google.colab.kernel.accessAllowed ? 'block' : 'none';\n",
              "        })();\n",
              "      </script>\n",
              "    </div>\n",
              "\n",
              "  <div id=\"id_2e91b91c-3549-453a-a8fe-4b826015dbd5\">\n",
              "    <style>\n",
              "      .colab-df-generate {\n",
              "        background-color: #E8F0FE;\n",
              "        border: none;\n",
              "        border-radius: 50%;\n",
              "        cursor: pointer;\n",
              "        display: none;\n",
              "        fill: #1967D2;\n",
              "        height: 32px;\n",
              "        padding: 0 0 0 0;\n",
              "        width: 32px;\n",
              "      }\n",
              "\n",
              "      .colab-df-generate:hover {\n",
              "        background-color: #E2EBFA;\n",
              "        box-shadow: 0px 1px 2px rgba(60, 64, 67, 0.3), 0px 1px 3px 1px rgba(60, 64, 67, 0.15);\n",
              "        fill: #174EA6;\n",
              "      }\n",
              "\n",
              "      [theme=dark] .colab-df-generate {\n",
              "        background-color: #3B4455;\n",
              "        fill: #D2E3FC;\n",
              "      }\n",
              "\n",
              "      [theme=dark] .colab-df-generate:hover {\n",
              "        background-color: #434B5C;\n",
              "        box-shadow: 0px 1px 3px 1px rgba(0, 0, 0, 0.15);\n",
              "        filter: drop-shadow(0px 1px 2px rgba(0, 0, 0, 0.3));\n",
              "        fill: #FFFFFF;\n",
              "      }\n",
              "    </style>\n",
              "    <button class=\"colab-df-generate\" onclick=\"generateWithVariable('data_df')\"\n",
              "            title=\"Generate code using this dataframe.\"\n",
              "            style=\"display:none;\">\n",
              "\n",
              "  <svg xmlns=\"http://www.w3.org/2000/svg\" height=\"24px\"viewBox=\"0 0 24 24\"\n",
              "       width=\"24px\">\n",
              "    <path d=\"M7,19H8.4L18.45,9,17,7.55,7,17.6ZM5,21V16.75L18.45,3.32a2,2,0,0,1,2.83,0l1.4,1.43a1.91,1.91,0,0,1,.58,1.4,1.91,1.91,0,0,1-.58,1.4L9.25,21ZM18.45,9,17,7.55Zm-12,3A5.31,5.31,0,0,0,4.9,8.1,5.31,5.31,0,0,0,1,6.5,5.31,5.31,0,0,0,4.9,4.9,5.31,5.31,0,0,0,6.5,1,5.31,5.31,0,0,0,8.1,4.9,5.31,5.31,0,0,0,12,6.5,5.46,5.46,0,0,0,6.5,12Z\"/>\n",
              "  </svg>\n",
              "    </button>\n",
              "    <script>\n",
              "      (() => {\n",
              "      const buttonEl =\n",
              "        document.querySelector('#id_2e91b91c-3549-453a-a8fe-4b826015dbd5 button.colab-df-generate');\n",
              "      buttonEl.style.display =\n",
              "        google.colab.kernel.accessAllowed ? 'block' : 'none';\n",
              "\n",
              "      buttonEl.onclick = () => {\n",
              "        google.colab.notebook.generateWithVariable('data_df');\n",
              "      }\n",
              "      })();\n",
              "    </script>\n",
              "  </div>\n",
              "\n",
              "    </div>\n",
              "  </div>\n"
            ],
            "application/vnd.google.colaboratory.intrinsic+json": {
              "type": "dataframe",
              "variable_name": "data_df"
            }
          },
          "metadata": {},
          "execution_count": 5
        }
      ],
      "source": [
        "import pandas as pd\n",
        "import numpy as np\n",
        "#upload the dataset by downloading both datasets from canvas and upload it on colab\n",
        "data_df = pd.read_csv(\"dataset_exercise_5_clustering_highway_traffic.csv\",sep=\";\")\n",
        "data_df"
      ]
    },
    {
      "cell_type": "markdown",
      "id": "6dcfa5e7",
      "metadata": {
        "id": "6dcfa5e7"
      },
      "source": [
        "### Long to wide transformation\n",
        "\n",
        "The following steps transform the dataset from long to wide format.\n",
        "\n",
        "The resulting format will have for each day all the 288 measured 5 minutes intervals as columns."
      ]
    },
    {
      "cell_type": "code",
      "execution_count": 6,
      "id": "233869ac",
      "metadata": {
        "id": "233869ac"
      },
      "outputs": [],
      "source": [
        "# Sort the DataFrame 'data_df' by columns \"Date\" and \"Interval_5\"\n",
        "data_df.sort_values([\"Date\", \"Interval_5\"])\n",
        "# Extract unique dates from the sorted DataFrame\n",
        "days = np.unique(data_df[['Date']].values.ravel())\n",
        "# Calculate the total number of unique days\n",
        "ndays = len(days)\n",
        "# Group the DataFrame 'data_df' by the \"Date\" column\n",
        "day_subsets_df = data_df.groupby([\"Date\"])\n",
        "# Define the total number of 5-minute intervals in a day\n",
        "nintvals = 288"
      ]
    },
    {
      "cell_type": "code",
      "execution_count": 7,
      "id": "0288645a",
      "metadata": {
        "id": "0288645a",
        "outputId": "35c9342d-0319-462b-981b-548770f34b0f",
        "colab": {
          "base_uri": "https://localhost:8080/"
        }
      },
      "outputs": [
        {
          "output_type": "stream",
          "name": "stderr",
          "text": [
            "/tmp/ipython-input-2054488798.py:7: FutureWarning: When grouping with a length-1 list-like, you will need to pass a length-1 tuple to get_group in a future version of pandas. Pass `(name,)` instead of `name` to silence this warning.\n",
            "  df_t = day_subsets_df.get_group(days[i],)\n",
            "/tmp/ipython-input-2054488798.py:11: FutureWarning: When grouping with a length-1 list-like, you will need to pass a length-1 tuple to get_group in a future version of pandas. Pass `(name,)` instead of `name` to silence this warning.\n",
            "  df_t = day_subsets_df.get_group(days[i],)\n"
          ]
        },
        {
          "output_type": "stream",
          "name": "stdout",
          "text": [
            "[[ 39.  18.  26. ...  32.  39.  34.]\n",
            " [ 30.  32.  27. ...  44.  41.  39.]\n",
            " [ 36.  44.  52. ...  50.  45.  23.]\n",
            " ...\n",
            " [ 20.  34.  31. ...  38.  42.  36.]\n",
            " [ 36.  40.  25. ...  38.  56.  35.]\n",
            " [ 33.  32.  34. ... 130. 129. 117.]]\n",
            "(365, 288)\n"
          ]
        }
      ],
      "source": [
        "# Create a matrix 'vectorized_day_dataset' filled with NaN values\n",
        "vectorized_day_dataset = np.zeros((ndays, nintvals))\n",
        "vectorized_day_dataset.fill(np.nan)\n",
        "# Loop through each unique day\n",
        "for i in range(0, ndays):\n",
        "    # Get the DataFrame corresponding to the current day\n",
        "    df_t = day_subsets_df.get_group(days[i],)\n",
        "    # Loop through each row in the current day's DataFrame\n",
        "    for j in range(len(df_t)):\n",
        "        # Get the current day's DataFrame\n",
        "        df_t = day_subsets_df.get_group(days[i],)\n",
        "        # Extract the \"Interval_5\" and \"flow\" values and populate 'vectorized_day_dataset'\n",
        "        vectorized_day_dataset[i, df_t.iloc[j][\"Interval_5\"]] = df_t.iloc[j][\"flow\"]\n",
        "# Print the resulting 'vectorized_day_dataset' and the size of vector\n",
        "print(vectorized_day_dataset)\n",
        "print(vectorized_day_dataset.shape)"
      ]
    },
    {
      "cell_type": "markdown",
      "id": "61e55477",
      "metadata": {
        "id": "61e55477"
      },
      "source": [
        "### Handling missing values"
      ]
    },
    {
      "cell_type": "code",
      "execution_count": 9,
      "id": "d4f7f4f9",
      "metadata": {
        "id": "d4f7f4f9",
        "outputId": "bb015995-6680-4e3d-dbfb-953303f5a7b0",
        "colab": {
          "base_uri": "https://localhost:8080/"
        }
      },
      "outputs": [
        {
          "output_type": "stream",
          "name": "stdout",
          "text": [
            "number of days with missing value: 28\n"
          ]
        }
      ],
      "source": [
        "# print the number of days with missing value\n",
        "nans_per_day = np.sum(np.isnan(vectorized_day_dataset),1)\n",
        "print('number of days with missing value:',np.size(np.where(nans_per_day > 0),1))"
      ]
    },
    {
      "cell_type": "markdown",
      "id": "e048ae3b",
      "metadata": {
        "id": "e048ae3b"
      },
      "source": [
        "Drop the days with missing values"
      ]
    },
    {
      "cell_type": "code",
      "execution_count": 10,
      "id": "6059bf14",
      "metadata": {
        "id": "6059bf14",
        "outputId": "9de44cd1-2a29-4b75-a82a-f563b3780be1",
        "colab": {
          "base_uri": "https://localhost:8080/"
        }
      },
      "outputs": [
        {
          "output_type": "stream",
          "name": "stdout",
          "text": [
            "(337, 288)\n"
          ]
        }
      ],
      "source": [
        "# Drop the days with missing valus\n",
        "vectorized_day_dataset_no_nans = vectorized_day_dataset[np.where(nans_per_day == 0)[0],:]\n",
        "# days_not_nans = days[np.where(nans_per_day == 0)[0]]\n",
        "print(vectorized_day_dataset_no_nans.shape)"
      ]
    },
    {
      "cell_type": "markdown",
      "id": "3c94371a",
      "metadata": {
        "id": "3c94371a"
      },
      "source": [
        "### Task 1: Perform PCA in dataset 1 for dimensionality reduction"
      ]
    },
    {
      "cell_type": "code",
      "execution_count": 11,
      "id": "a29c5974",
      "metadata": {
        "id": "a29c5974"
      },
      "outputs": [],
      "source": [
        "# Import packages\n",
        "import pandas as pd\n",
        "import numpy as np\n",
        "from sklearn.decomposition import PCA\n",
        "from sklearn.preprocessing import StandardScaler"
      ]
    },
    {
      "cell_type": "markdown",
      "id": "4f2363c2",
      "metadata": {
        "id": "4f2363c2"
      },
      "source": [
        " #### Step 1: Overview of the Dataset\n",
        "\n",
        " Load and inspect the dataset"
      ]
    },
    {
      "cell_type": "code",
      "execution_count": 12,
      "id": "39b91aa8",
      "metadata": {
        "id": "39b91aa8",
        "outputId": "e38c668e-cc13-4334-90a8-7ba25d1ced7a",
        "colab": {
          "base_uri": "https://localhost:8080/",
          "height": 256
        }
      },
      "outputs": [
        {
          "output_type": "execute_result",
          "data": {
            "text/plain": [
              "    0     1     2     3     4     5     6      7     8      9    ...   278  \\\n",
              "0  39.0  18.0  26.0  52.0  52.0  74.0  68.0  109.0  91.0  121.0  ...  52.0   \n",
              "1  30.0  32.0  27.0  37.0  37.0  23.0  39.0   32.0  23.0   30.0  ...  58.0   \n",
              "2  36.0  44.0  52.0  61.0  55.0  57.0  55.0   44.0  38.0   39.0  ...  47.0   \n",
              "3  41.0  36.0  37.0  31.0  37.0  33.0  31.0   32.0  28.0   23.0  ...  54.0   \n",
              "4  41.0  32.0  40.0  32.0  33.0  46.0  28.0   24.0  26.0   23.0  ...  56.0   \n",
              "\n",
              "    279   280   281   282   283   284   285   286   287  \n",
              "0  67.0  57.0  40.0  43.0  42.0  43.0  32.0  39.0  34.0  \n",
              "1  71.0  49.0  59.0  68.0  63.0  55.0  44.0  41.0  39.0  \n",
              "2  51.0  43.0  28.0  57.0  43.0  33.0  50.0  45.0  23.0  \n",
              "3  44.0  52.0  27.0  54.0  31.0  35.0  28.0  43.0  18.0  \n",
              "4  69.0  57.0  46.0  49.0  43.0  40.0  56.0  31.0  43.0  \n",
              "\n",
              "[5 rows x 288 columns]"
            ],
            "text/html": [
              "\n",
              "  <div id=\"df-f61e4802-c5fa-4ab5-b644-62a2e57fa602\" class=\"colab-df-container\">\n",
              "    <div>\n",
              "<style scoped>\n",
              "    .dataframe tbody tr th:only-of-type {\n",
              "        vertical-align: middle;\n",
              "    }\n",
              "\n",
              "    .dataframe tbody tr th {\n",
              "        vertical-align: top;\n",
              "    }\n",
              "\n",
              "    .dataframe thead th {\n",
              "        text-align: right;\n",
              "    }\n",
              "</style>\n",
              "<table border=\"1\" class=\"dataframe\">\n",
              "  <thead>\n",
              "    <tr style=\"text-align: right;\">\n",
              "      <th></th>\n",
              "      <th>0</th>\n",
              "      <th>1</th>\n",
              "      <th>2</th>\n",
              "      <th>3</th>\n",
              "      <th>4</th>\n",
              "      <th>5</th>\n",
              "      <th>6</th>\n",
              "      <th>7</th>\n",
              "      <th>8</th>\n",
              "      <th>9</th>\n",
              "      <th>...</th>\n",
              "      <th>278</th>\n",
              "      <th>279</th>\n",
              "      <th>280</th>\n",
              "      <th>281</th>\n",
              "      <th>282</th>\n",
              "      <th>283</th>\n",
              "      <th>284</th>\n",
              "      <th>285</th>\n",
              "      <th>286</th>\n",
              "      <th>287</th>\n",
              "    </tr>\n",
              "  </thead>\n",
              "  <tbody>\n",
              "    <tr>\n",
              "      <th>0</th>\n",
              "      <td>39.0</td>\n",
              "      <td>18.0</td>\n",
              "      <td>26.0</td>\n",
              "      <td>52.0</td>\n",
              "      <td>52.0</td>\n",
              "      <td>74.0</td>\n",
              "      <td>68.0</td>\n",
              "      <td>109.0</td>\n",
              "      <td>91.0</td>\n",
              "      <td>121.0</td>\n",
              "      <td>...</td>\n",
              "      <td>52.0</td>\n",
              "      <td>67.0</td>\n",
              "      <td>57.0</td>\n",
              "      <td>40.0</td>\n",
              "      <td>43.0</td>\n",
              "      <td>42.0</td>\n",
              "      <td>43.0</td>\n",
              "      <td>32.0</td>\n",
              "      <td>39.0</td>\n",
              "      <td>34.0</td>\n",
              "    </tr>\n",
              "    <tr>\n",
              "      <th>1</th>\n",
              "      <td>30.0</td>\n",
              "      <td>32.0</td>\n",
              "      <td>27.0</td>\n",
              "      <td>37.0</td>\n",
              "      <td>37.0</td>\n",
              "      <td>23.0</td>\n",
              "      <td>39.0</td>\n",
              "      <td>32.0</td>\n",
              "      <td>23.0</td>\n",
              "      <td>30.0</td>\n",
              "      <td>...</td>\n",
              "      <td>58.0</td>\n",
              "      <td>71.0</td>\n",
              "      <td>49.0</td>\n",
              "      <td>59.0</td>\n",
              "      <td>68.0</td>\n",
              "      <td>63.0</td>\n",
              "      <td>55.0</td>\n",
              "      <td>44.0</td>\n",
              "      <td>41.0</td>\n",
              "      <td>39.0</td>\n",
              "    </tr>\n",
              "    <tr>\n",
              "      <th>2</th>\n",
              "      <td>36.0</td>\n",
              "      <td>44.0</td>\n",
              "      <td>52.0</td>\n",
              "      <td>61.0</td>\n",
              "      <td>55.0</td>\n",
              "      <td>57.0</td>\n",
              "      <td>55.0</td>\n",
              "      <td>44.0</td>\n",
              "      <td>38.0</td>\n",
              "      <td>39.0</td>\n",
              "      <td>...</td>\n",
              "      <td>47.0</td>\n",
              "      <td>51.0</td>\n",
              "      <td>43.0</td>\n",
              "      <td>28.0</td>\n",
              "      <td>57.0</td>\n",
              "      <td>43.0</td>\n",
              "      <td>33.0</td>\n",
              "      <td>50.0</td>\n",
              "      <td>45.0</td>\n",
              "      <td>23.0</td>\n",
              "    </tr>\n",
              "    <tr>\n",
              "      <th>3</th>\n",
              "      <td>41.0</td>\n",
              "      <td>36.0</td>\n",
              "      <td>37.0</td>\n",
              "      <td>31.0</td>\n",
              "      <td>37.0</td>\n",
              "      <td>33.0</td>\n",
              "      <td>31.0</td>\n",
              "      <td>32.0</td>\n",
              "      <td>28.0</td>\n",
              "      <td>23.0</td>\n",
              "      <td>...</td>\n",
              "      <td>54.0</td>\n",
              "      <td>44.0</td>\n",
              "      <td>52.0</td>\n",
              "      <td>27.0</td>\n",
              "      <td>54.0</td>\n",
              "      <td>31.0</td>\n",
              "      <td>35.0</td>\n",
              "      <td>28.0</td>\n",
              "      <td>43.0</td>\n",
              "      <td>18.0</td>\n",
              "    </tr>\n",
              "    <tr>\n",
              "      <th>4</th>\n",
              "      <td>41.0</td>\n",
              "      <td>32.0</td>\n",
              "      <td>40.0</td>\n",
              "      <td>32.0</td>\n",
              "      <td>33.0</td>\n",
              "      <td>46.0</td>\n",
              "      <td>28.0</td>\n",
              "      <td>24.0</td>\n",
              "      <td>26.0</td>\n",
              "      <td>23.0</td>\n",
              "      <td>...</td>\n",
              "      <td>56.0</td>\n",
              "      <td>69.0</td>\n",
              "      <td>57.0</td>\n",
              "      <td>46.0</td>\n",
              "      <td>49.0</td>\n",
              "      <td>43.0</td>\n",
              "      <td>40.0</td>\n",
              "      <td>56.0</td>\n",
              "      <td>31.0</td>\n",
              "      <td>43.0</td>\n",
              "    </tr>\n",
              "  </tbody>\n",
              "</table>\n",
              "<p>5 rows × 288 columns</p>\n",
              "</div>\n",
              "    <div class=\"colab-df-buttons\">\n",
              "\n",
              "  <div class=\"colab-df-container\">\n",
              "    <button class=\"colab-df-convert\" onclick=\"convertToInteractive('df-f61e4802-c5fa-4ab5-b644-62a2e57fa602')\"\n",
              "            title=\"Convert this dataframe to an interactive table.\"\n",
              "            style=\"display:none;\">\n",
              "\n",
              "  <svg xmlns=\"http://www.w3.org/2000/svg\" height=\"24px\" viewBox=\"0 -960 960 960\">\n",
              "    <path d=\"M120-120v-720h720v720H120Zm60-500h600v-160H180v160Zm220 220h160v-160H400v160Zm0 220h160v-160H400v160ZM180-400h160v-160H180v160Zm440 0h160v-160H620v160ZM180-180h160v-160H180v160Zm440 0h160v-160H620v160Z\"/>\n",
              "  </svg>\n",
              "    </button>\n",
              "\n",
              "  <style>\n",
              "    .colab-df-container {\n",
              "      display:flex;\n",
              "      gap: 12px;\n",
              "    }\n",
              "\n",
              "    .colab-df-convert {\n",
              "      background-color: #E8F0FE;\n",
              "      border: none;\n",
              "      border-radius: 50%;\n",
              "      cursor: pointer;\n",
              "      display: none;\n",
              "      fill: #1967D2;\n",
              "      height: 32px;\n",
              "      padding: 0 0 0 0;\n",
              "      width: 32px;\n",
              "    }\n",
              "\n",
              "    .colab-df-convert:hover {\n",
              "      background-color: #E2EBFA;\n",
              "      box-shadow: 0px 1px 2px rgba(60, 64, 67, 0.3), 0px 1px 3px 1px rgba(60, 64, 67, 0.15);\n",
              "      fill: #174EA6;\n",
              "    }\n",
              "\n",
              "    .colab-df-buttons div {\n",
              "      margin-bottom: 4px;\n",
              "    }\n",
              "\n",
              "    [theme=dark] .colab-df-convert {\n",
              "      background-color: #3B4455;\n",
              "      fill: #D2E3FC;\n",
              "    }\n",
              "\n",
              "    [theme=dark] .colab-df-convert:hover {\n",
              "      background-color: #434B5C;\n",
              "      box-shadow: 0px 1px 3px 1px rgba(0, 0, 0, 0.15);\n",
              "      filter: drop-shadow(0px 1px 2px rgba(0, 0, 0, 0.3));\n",
              "      fill: #FFFFFF;\n",
              "    }\n",
              "  </style>\n",
              "\n",
              "    <script>\n",
              "      const buttonEl =\n",
              "        document.querySelector('#df-f61e4802-c5fa-4ab5-b644-62a2e57fa602 button.colab-df-convert');\n",
              "      buttonEl.style.display =\n",
              "        google.colab.kernel.accessAllowed ? 'block' : 'none';\n",
              "\n",
              "      async function convertToInteractive(key) {\n",
              "        const element = document.querySelector('#df-f61e4802-c5fa-4ab5-b644-62a2e57fa602');\n",
              "        const dataTable =\n",
              "          await google.colab.kernel.invokeFunction('convertToInteractive',\n",
              "                                                    [key], {});\n",
              "        if (!dataTable) return;\n",
              "\n",
              "        const docLinkHtml = 'Like what you see? Visit the ' +\n",
              "          '<a target=\"_blank\" href=https://colab.research.google.com/notebooks/data_table.ipynb>data table notebook</a>'\n",
              "          + ' to learn more about interactive tables.';\n",
              "        element.innerHTML = '';\n",
              "        dataTable['output_type'] = 'display_data';\n",
              "        await google.colab.output.renderOutput(dataTable, element);\n",
              "        const docLink = document.createElement('div');\n",
              "        docLink.innerHTML = docLinkHtml;\n",
              "        element.appendChild(docLink);\n",
              "      }\n",
              "    </script>\n",
              "  </div>\n",
              "\n",
              "\n",
              "    <div id=\"df-cd47b8d0-1723-4dfd-8d79-33039962c1b9\">\n",
              "      <button class=\"colab-df-quickchart\" onclick=\"quickchart('df-cd47b8d0-1723-4dfd-8d79-33039962c1b9')\"\n",
              "                title=\"Suggest charts\"\n",
              "                style=\"display:none;\">\n",
              "\n",
              "<svg xmlns=\"http://www.w3.org/2000/svg\" height=\"24px\"viewBox=\"0 0 24 24\"\n",
              "     width=\"24px\">\n",
              "    <g>\n",
              "        <path d=\"M19 3H5c-1.1 0-2 .9-2 2v14c0 1.1.9 2 2 2h14c1.1 0 2-.9 2-2V5c0-1.1-.9-2-2-2zM9 17H7v-7h2v7zm4 0h-2V7h2v10zm4 0h-2v-4h2v4z\"/>\n",
              "    </g>\n",
              "</svg>\n",
              "      </button>\n",
              "\n",
              "<style>\n",
              "  .colab-df-quickchart {\n",
              "      --bg-color: #E8F0FE;\n",
              "      --fill-color: #1967D2;\n",
              "      --hover-bg-color: #E2EBFA;\n",
              "      --hover-fill-color: #174EA6;\n",
              "      --disabled-fill-color: #AAA;\n",
              "      --disabled-bg-color: #DDD;\n",
              "  }\n",
              "\n",
              "  [theme=dark] .colab-df-quickchart {\n",
              "      --bg-color: #3B4455;\n",
              "      --fill-color: #D2E3FC;\n",
              "      --hover-bg-color: #434B5C;\n",
              "      --hover-fill-color: #FFFFFF;\n",
              "      --disabled-bg-color: #3B4455;\n",
              "      --disabled-fill-color: #666;\n",
              "  }\n",
              "\n",
              "  .colab-df-quickchart {\n",
              "    background-color: var(--bg-color);\n",
              "    border: none;\n",
              "    border-radius: 50%;\n",
              "    cursor: pointer;\n",
              "    display: none;\n",
              "    fill: var(--fill-color);\n",
              "    height: 32px;\n",
              "    padding: 0;\n",
              "    width: 32px;\n",
              "  }\n",
              "\n",
              "  .colab-df-quickchart:hover {\n",
              "    background-color: var(--hover-bg-color);\n",
              "    box-shadow: 0 1px 2px rgba(60, 64, 67, 0.3), 0 1px 3px 1px rgba(60, 64, 67, 0.15);\n",
              "    fill: var(--button-hover-fill-color);\n",
              "  }\n",
              "\n",
              "  .colab-df-quickchart-complete:disabled,\n",
              "  .colab-df-quickchart-complete:disabled:hover {\n",
              "    background-color: var(--disabled-bg-color);\n",
              "    fill: var(--disabled-fill-color);\n",
              "    box-shadow: none;\n",
              "  }\n",
              "\n",
              "  .colab-df-spinner {\n",
              "    border: 2px solid var(--fill-color);\n",
              "    border-color: transparent;\n",
              "    border-bottom-color: var(--fill-color);\n",
              "    animation:\n",
              "      spin 1s steps(1) infinite;\n",
              "  }\n",
              "\n",
              "  @keyframes spin {\n",
              "    0% {\n",
              "      border-color: transparent;\n",
              "      border-bottom-color: var(--fill-color);\n",
              "      border-left-color: var(--fill-color);\n",
              "    }\n",
              "    20% {\n",
              "      border-color: transparent;\n",
              "      border-left-color: var(--fill-color);\n",
              "      border-top-color: var(--fill-color);\n",
              "    }\n",
              "    30% {\n",
              "      border-color: transparent;\n",
              "      border-left-color: var(--fill-color);\n",
              "      border-top-color: var(--fill-color);\n",
              "      border-right-color: var(--fill-color);\n",
              "    }\n",
              "    40% {\n",
              "      border-color: transparent;\n",
              "      border-right-color: var(--fill-color);\n",
              "      border-top-color: var(--fill-color);\n",
              "    }\n",
              "    60% {\n",
              "      border-color: transparent;\n",
              "      border-right-color: var(--fill-color);\n",
              "    }\n",
              "    80% {\n",
              "      border-color: transparent;\n",
              "      border-right-color: var(--fill-color);\n",
              "      border-bottom-color: var(--fill-color);\n",
              "    }\n",
              "    90% {\n",
              "      border-color: transparent;\n",
              "      border-bottom-color: var(--fill-color);\n",
              "    }\n",
              "  }\n",
              "</style>\n",
              "\n",
              "      <script>\n",
              "        async function quickchart(key) {\n",
              "          const quickchartButtonEl =\n",
              "            document.querySelector('#' + key + ' button');\n",
              "          quickchartButtonEl.disabled = true;  // To prevent multiple clicks.\n",
              "          quickchartButtonEl.classList.add('colab-df-spinner');\n",
              "          try {\n",
              "            const charts = await google.colab.kernel.invokeFunction(\n",
              "                'suggestCharts', [key], {});\n",
              "          } catch (error) {\n",
              "            console.error('Error during call to suggestCharts:', error);\n",
              "          }\n",
              "          quickchartButtonEl.classList.remove('colab-df-spinner');\n",
              "          quickchartButtonEl.classList.add('colab-df-quickchart-complete');\n",
              "        }\n",
              "        (() => {\n",
              "          let quickchartButtonEl =\n",
              "            document.querySelector('#df-cd47b8d0-1723-4dfd-8d79-33039962c1b9 button');\n",
              "          quickchartButtonEl.style.display =\n",
              "            google.colab.kernel.accessAllowed ? 'block' : 'none';\n",
              "        })();\n",
              "      </script>\n",
              "    </div>\n",
              "\n",
              "    </div>\n",
              "  </div>\n"
            ],
            "application/vnd.google.colaboratory.intrinsic+json": {
              "type": "dataframe",
              "variable_name": "data"
            }
          },
          "metadata": {},
          "execution_count": 12
        }
      ],
      "source": [
        "data = pd.DataFrame(vectorized_day_dataset_no_nans)\n",
        "data.head()  # Display the first few rows"
      ]
    },
    {
      "cell_type": "markdown",
      "id": "78cd5a64",
      "metadata": {
        "id": "78cd5a64"
      },
      "source": [
        "Step 2: Data Preprocessing (Normalization)\n",
        "\n",
        "PCA is sensitive to the scale of the features. Our features are all traffic flow counts, so they are on the same scale, but they might have different means and variances. Normalization (scaling to zero mean and unit variance) ensures that each feature contributes equally to the analysis. Without it, features with naturally larger ranges (flow during rush hour vs. nighttime) would dominate the principal components.\n",
        "\n",
        "StandardScaler transforms the data so that each feature has a mean of 0 and a standard deviation of 1."
      ]
    },
    {
      "cell_type": "code",
      "execution_count": 13,
      "id": "1aa131fa",
      "metadata": {
        "id": "1aa131fa",
        "outputId": "e36523cc-4f5c-42fe-8962-64e10d75bbb4",
        "colab": {
          "base_uri": "https://localhost:8080/"
        }
      },
      "outputs": [
        {
          "output_type": "execute_result",
          "data": {
            "text/plain": [
              "array([[ 0.35820798, -0.96258119, -0.43235105, ..., -0.23263163,\n",
              "         0.16875098,  0.01493842],\n",
              "       [-0.20883002, -0.06328257, -0.36651178, ...,  0.43695009,\n",
              "         0.27949894,  0.3182063 ],\n",
              "       [ 0.16919531,  0.70754483,  1.27946997, ...,  0.77174095,\n",
              "         0.50099486, -0.65225092],\n",
              "       ...,\n",
              "       [-0.83887223,  0.06518867, -0.1031547 , ...,  0.10215923,\n",
              "         0.33487292,  0.13624557],\n",
              "       [ 0.16919531,  0.45060236, -0.49819032, ...,  0.10215923,\n",
              "         1.11010866,  0.07559199],\n",
              "       [-0.01981735, -0.06328257,  0.09436311, ...,  5.23561911,\n",
              "         5.1524093 ,  5.0491852 ]])"
            ]
          },
          "metadata": {},
          "execution_count": 13
        }
      ],
      "source": [
        "scaler = StandardScaler()\n",
        "data_normalized = scaler.fit_transform(data)\n",
        "data_normalized"
      ]
    },
    {
      "cell_type": "markdown",
      "id": "a96db59a",
      "metadata": {
        "id": "a96db59a"
      },
      "source": [
        "Step 3: Perform PCA for Dimensionality Reduction\n",
        "\n",
        "We will start by arbitrarily projecting our 288-dimensional data down to 6 dimensions. We will analyze the result of this choice shortly.\n",
        "\n",
        "The fit_transform method learns the transformation (finds the components that maximize variance) and then applies it to our data."
      ]
    },
    {
      "cell_type": "code",
      "execution_count": 14,
      "id": "baf8b112",
      "metadata": {
        "id": "baf8b112",
        "outputId": "98a76a88-e966-4234-9c9f-f3207c26b1e2",
        "colab": {
          "base_uri": "https://localhost:8080/"
        }
      },
      "outputs": [
        {
          "output_type": "stream",
          "name": "stdout",
          "text": [
            "[[-2.25990504e+01 -3.23635643e+01  1.14957345e+01 ... -2.18125080e+00\n",
            "  -4.56985367e+00  7.17072156e-01]\n",
            " [-1.72535373e+01 -6.07639879e+00 -3.12115793e+00 ... -4.27076657e-01\n",
            "  -7.59973119e-01  4.11518186e-01]\n",
            " [-1.80553829e+01 -8.43694150e+00 -5.06582524e-01 ...  3.33982882e-01\n",
            "  -3.89410275e-02  1.65270382e+00]\n",
            " ...\n",
            " [-3.47752340e+00  2.45274731e+00 -9.95178405e-01 ... -9.16070029e-01\n",
            "  -8.50741836e-01 -1.89133570e-02]\n",
            " [-4.41769458e+00 -1.05875388e-01  8.47933781e-01 ...  4.40558766e-01\n",
            "  -1.50738948e-01  7.22414290e-02]\n",
            " [-1.28274021e+01 -1.66239606e+01 -5.83039331e+00 ...  2.82931391e+00\n",
            "  -1.58320364e+00 -8.61421643e-01]]\n",
            "(337, 22)\n"
          ]
        }
      ],
      "source": [
        "pca = PCA(n_components=22)  # Adjust the number of components (dimensions) as needed\n",
        "data_pca = pca.fit_transform(data_normalized)\n",
        "print(data_pca)\n",
        "print(data_pca.shape)"
      ]
    },
    {
      "cell_type": "markdown",
      "id": "fd6fa3b8",
      "metadata": {
        "id": "fd6fa3b8"
      },
      "source": [
        "Step 4: Assess Performance of PCA\n",
        "\n",
        "How good was this reduction? Did we retain most of the information? We use the explained variance ratio to answer this. This attribute tells us the percentage of the total variance in the original dataset that is captured by each principal component."
      ]
    },
    {
      "cell_type": "code",
      "execution_count": 15,
      "id": "e7584f09",
      "metadata": {
        "id": "e7584f09",
        "outputId": "87307ee2-f0d6-4646-984a-bb8efbe3d3c4",
        "colab": {
          "base_uri": "https://localhost:8080/"
        }
      },
      "outputs": [
        {
          "output_type": "stream",
          "name": "stdout",
          "text": [
            "Explained Variance Ratio: [0.31725246 0.19340224 0.08298293 0.05444537 0.04555043 0.03011985\n",
            " 0.02071443 0.01585592 0.01430133 0.01228154 0.00899836 0.00825017\n",
            " 0.0068257  0.00620649 0.00598668 0.00505128 0.00490393 0.00445106\n",
            " 0.00406739 0.00379029 0.00366295 0.00347215]\n",
            "Sum of the explained variance: 0.8525729309509744\n"
          ]
        }
      ],
      "source": [
        "# Investigate Explained Variance\n",
        "explained_variance = pca.explained_variance_ratio_\n",
        "print(f'Explained Variance Ratio: {explained_variance}')\n",
        "print(f\"Sum of the explained variance: {sum(explained_variance)}\")"
      ]
    },
    {
      "cell_type": "markdown",
      "id": "d9ac384b-4168-46fb-957e-9d5c320ca787",
      "metadata": {
        "id": "d9ac384b-4168-46fb-957e-9d5c320ca787"
      },
      "source": [
        "The first principal component explains ~31.7% of the total variance in the data. The second explains ~19.3%. Together, our first six components explain roughly 72.4% of the total variance. This means we've compressed the data into 6 dimensions while losing about 27.6% of the original information. Is this good? It depends on our goal, which we will explore next."
      ]
    },
    {
      "cell_type": "code",
      "execution_count": 16,
      "id": "fe498f7e",
      "metadata": {
        "id": "fe498f7e",
        "outputId": "9803e408-8f66-4dee-b92e-a97cb29ad1ad",
        "colab": {
          "base_uri": "https://localhost:8080/"
        }
      },
      "outputs": [
        {
          "output_type": "execute_result",
          "data": {
            "text/plain": [
              "array([[-0.08188031, -0.07577688, -0.08021798, ..., -0.0518492 ,\n",
              "        -0.05286988, -0.0463367 ],\n",
              "       [-0.0058892 , -0.00745272, -0.00547462, ...,  0.03292611,\n",
              "         0.03500989,  0.03299452],\n",
              "       [ 0.06215354,  0.06490816,  0.05943999, ..., -0.02845574,\n",
              "        -0.02205239, -0.01868297],\n",
              "       ...,\n",
              "       [ 0.08134796,  0.17691061,  0.06643579, ...,  0.15011353,\n",
              "         0.12167141,  0.13851028],\n",
              "       [ 0.07919213,  0.1553491 ,  0.17613906, ..., -0.05923253,\n",
              "        -0.09122277, -0.11158042],\n",
              "       [-0.02387564, -0.03769857, -0.06440279, ..., -0.02879061,\n",
              "        -0.02917469, -0.06882074]])"
            ]
          },
          "metadata": {},
          "execution_count": 16
        }
      ],
      "source": [
        "pca.components_"
      ]
    },
    {
      "cell_type": "code",
      "execution_count": 17,
      "id": "bc3b4cfd",
      "metadata": {
        "id": "bc3b4cfd",
        "outputId": "dc52cf6f-1db2-4322-b476-1a5eedaa5402",
        "colab": {
          "base_uri": "https://localhost:8080/"
        }
      },
      "outputs": [
        {
          "output_type": "execute_result",
          "data": {
            "text/plain": [
              "(22, 288)"
            ]
          },
          "metadata": {},
          "execution_count": 17
        }
      ],
      "source": [
        "pca.components_.shape"
      ]
    },
    {
      "cell_type": "markdown",
      "id": "df371fbd",
      "metadata": {
        "id": "df371fbd"
      },
      "source": [
        "### **Task 1.1.: What is a potential issue of PCA in terms of interpretability of the results?**\n",
        "\n",
        "What do these components represent? Think about the implications that might have on the machine learning task usually following after the dimensionality reduction."
      ]
    },
    {
      "cell_type": "markdown",
      "id": "c7f2c2b6",
      "metadata": {
        "id": "c7f2c2b6"
      },
      "source": [
        "### **Task 1.2.: How many dimensions do we need to preserve at least 85% of the variance?**\n",
        "\n",
        "Our choice of n_components=6 was arbitrary. A common rule of thumb is to choose a number of components that preserves a high percentage of the variance (85% or 95%).\n",
        "\n",
        "Let's run PCA again with different amount of components"
      ]
    },
    {
      "cell_type": "markdown",
      "source": [
        "**Results**\n",
        "\n",
        "\n",
        "*   n_components=21：0.8491007829795919\n",
        "*   n_components=22：0.8525729309509744\n",
        "\n",
        "\n",
        "\n",
        "→We need at least 12 dimensions to preseave 85%"
      ],
      "metadata": {
        "id": "JDlw11ANLaJS"
      },
      "id": "JDlw11ANLaJS"
    },
    {
      "cell_type": "markdown",
      "id": "ba043e84",
      "metadata": {
        "id": "ba043e84"
      },
      "source": [
        "### Step 5: Stability Analysis for PCA\n",
        "\n",
        "Stability Analysis for PCA involves assessing the variability of principal component scores across different random splits or subsets of the data. This can be done to ensure that the identified principal components are robust and not overly influenced by specific data points."
      ]
    },
    {
      "cell_type": "code",
      "execution_count": 19,
      "id": "5afbe4b2",
      "metadata": {
        "id": "5afbe4b2",
        "outputId": "83e26599-bc78-4a9d-90b7-7a7cb063ae3e",
        "colab": {
          "base_uri": "https://localhost:8080/"
        }
      },
      "outputs": [
        {
          "output_type": "stream",
          "name": "stdout",
          "text": [
            "Run 1 - Explained Variance Ratio: [0.31562678 0.18213789 0.08342555 0.05783197 0.04652176 0.02970409\n",
            " 0.02251365 0.01720044 0.01550476 0.01387052 0.01004373 0.00893857\n",
            " 0.00760443 0.00658808 0.00646219 0.00541528 0.00528993 0.00461005\n",
            " 0.00429999 0.00403646], Sum: 0.847626132962784\n",
            "Run 2 - Explained Variance Ratio: [0.31768382 0.19888801 0.08312449 0.05542708 0.04438941 0.03118262\n",
            " 0.01999599 0.01585276 0.0132131  0.01071303 0.00889413 0.00812331\n",
            " 0.00743306 0.00637259 0.00563318 0.0051957  0.0049974  0.0044959\n",
            " 0.00415076 0.00396496], Sum: 0.8497313165455787\n",
            "Run 3 - Explained Variance Ratio: [0.33674445 0.15473678 0.08390319 0.05938085 0.04793176 0.030495\n",
            " 0.02250227 0.01609422 0.01431328 0.01203226 0.00948087 0.00855938\n",
            " 0.00794262 0.00654297 0.00636737 0.00563382 0.00520732 0.004772\n",
            " 0.00459651 0.0042297 ], Sum: 0.841466598688925\n",
            "Run 4 - Explained Variance Ratio: [0.31276574 0.20562737 0.08269396 0.04945279 0.04384078 0.03215048\n",
            " 0.02174228 0.0172216  0.01536084 0.0137268  0.00981838 0.00877416\n",
            " 0.00724095 0.00687145 0.00556931 0.00498054 0.00476572 0.00418912\n",
            " 0.00391361 0.00378294], Sum: 0.8544888221944158\n",
            "Run 5 - Explained Variance Ratio: [0.3214047  0.18977373 0.08653205 0.0559481  0.0453184  0.03033521\n",
            " 0.0186333  0.01706639 0.01215183 0.01121671 0.00905369 0.00728661\n",
            " 0.00698003 0.00681358 0.00574167 0.00532843 0.0049229  0.00473458\n",
            " 0.0041655  0.00395665], Sum: 0.8473640658227013\n",
            "Run 6 - Explained Variance Ratio: [0.30859829 0.20447255 0.08392333 0.05284511 0.04507161 0.03223299\n",
            " 0.02108761 0.01699346 0.01364494 0.01106668 0.00980988 0.00858387\n",
            " 0.00743163 0.0065508  0.00609892 0.00555885 0.0047476  0.00458163\n",
            " 0.00432345 0.00406933], Sum: 0.8516925282690485\n",
            "Run 7 - Explained Variance Ratio: [0.30633114 0.20629858 0.08487934 0.05390274 0.04214414 0.02892423\n",
            " 0.02121622 0.01745928 0.01384115 0.01328871 0.00941428 0.00822242\n",
            " 0.00726041 0.00647344 0.006022   0.00534962 0.00493006 0.00434265\n",
            " 0.00409892 0.00393794], Sum: 0.8483372727244867\n",
            "Run 8 - Explained Variance Ratio: [0.31255877 0.21192711 0.08120657 0.04859513 0.0441482  0.0304265\n",
            " 0.01996352 0.01641152 0.01473924 0.01171486 0.00896979 0.00826294\n",
            " 0.00697403 0.00649395 0.00591147 0.00543519 0.00499933 0.00454949\n",
            " 0.00446912 0.00377895], Sum: 0.8515356818610149\n",
            "Run 9 - Explained Variance Ratio: [0.30433301 0.21473331 0.08030139 0.05243282 0.04334386 0.02814558\n",
            " 0.0222406  0.01658019 0.01557114 0.01344046 0.00899882 0.00853245\n",
            " 0.00714743 0.00662137 0.00625605 0.00519502 0.00498765 0.00473758\n",
            " 0.00396651 0.00391095], Sum: 0.8514761887117367\n",
            "Run 10 - Explained Variance Ratio: [0.32368423 0.18212734 0.07959803 0.05513344 0.04797972 0.03344616\n",
            " 0.02094094 0.01714862 0.0135416  0.01345597 0.00956636 0.00885431\n",
            " 0.00711982 0.00684697 0.00584936 0.00507528 0.00474696 0.0044888\n",
            " 0.0041531  0.00398803], Sum: 0.8477450378520253\n"
          ]
        }
      ],
      "source": [
        "# Conduct Stability Analysis\n",
        "num_runs = 10  # Number of times to run PCA with different random seeds\n",
        "\n",
        "prop_data_used = 0.8 # Define the proportion of data to use in each iteration (e.g., 80%)\n",
        "\n",
        "data_normalized_df = pd.DataFrame(data_normalized)\n",
        "\n",
        "for i in range(num_runs):\n",
        "    # Randomly select a subset of the data\n",
        "    prop_data_used\n",
        "    subset_indices = np.random.choice(data_normalized_df.shape[0], size=int(prop_data_used * data_normalized_df.shape[0]), replace=False)\n",
        "    subset_data = data_normalized_df.loc[subset_indices]\n",
        "    # Fit PCA on the subset\n",
        "    pca = PCA(n_components=20)  # Change random_state for each run\n",
        "    X_pca = pca.fit_transform(subset_data)\n",
        "\n",
        "    explained_variance = pca.explained_variance_ratio_\n",
        "    print(f'Run {i+1} - Explained Variance Ratio: {explained_variance}, Sum: {sum(explained_variance)}')"
      ]
    },
    {
      "cell_type": "markdown",
      "id": "480cdad3",
      "metadata": {
        "id": "480cdad3"
      },
      "source": [
        "### **Task 1.3.: Interprete the stability analysis of the PCA**\n",
        "\n",
        "What does the result tell us?"
      ]
    },
    {
      "cell_type": "markdown",
      "id": "dc6b82d4",
      "metadata": {
        "id": "dc6b82d4"
      },
      "source": [
        "### Task 2: Perform PCA in dataset 1 for outlier detection\n",
        "\n",
        "PCA finds the directions of maximum variance in the data. The first few principal components are designed to capture these dominant, common patterns (the daily rhythm of traffic). The remaining components often capture much less variance, which can include noise, subtle patterns, or, importantly, anomalies.\n",
        "\n",
        "Here is the process:\n",
        "\n",
        "1. We will use PCA to project our high-dimensional data onto a lower-dimensional subspace defined by the first few principal components (we'll start with 2).\n",
        "2. We will then reverse the process, transforming this reduced data back into the original 288-dimensional space. This is called reconstruction.\n",
        "3. For each data point (each day), we will calculate the reconstruction error—the difference between the original data point and its reconstructed version.\n",
        "4. Days that are \"typical\" and follow the common patterns captured by the first 2 PCs will reconstruct well, resulting in a small error. Days that are unusual outliers (a day with a bizarre traffic pattern due to an accident, a holiday, or a sensor error) will not be well-described by the main patterns. Therefore, their reconstruction error will be very high.\n",
        "\n",
        "By setting a threshold on this error, we can automatically flag potential outliers for further investigation"
      ]
    },
    {
      "cell_type": "code",
      "execution_count": 20,
      "id": "2f8f3287",
      "metadata": {
        "id": "2f8f3287",
        "outputId": "bc9afccc-1f72-403c-c8e9-40e03bd078e6",
        "colab": {
          "base_uri": "https://localhost:8080/",
          "height": 616
        }
      },
      "outputs": [
        {
          "output_type": "display_data",
          "data": {
            "text/plain": [
              "<Figure size 800x600 with 1 Axes>"
            ],
            "image/png": "[encoded data removed]"
          },
          "metadata": {}
        },
        {
          "output_type": "stream",
          "name": "stdout",
          "text": [
            "Number of detected outliers: 19\n",
            "Detected outliers: [  0  40 113 175 176 202 213 218 230 231 248 253 258 279 280 288 299 315\n",
            " 329]\n"
          ]
        }
      ],
      "source": [
        "import numpy as np\n",
        "import pandas as pd\n",
        "from sklearn.decomposition import PCA\n",
        "from sklearn.preprocessing import StandardScaler\n",
        "import matplotlib.pyplot as plt\n",
        "\n",
        "# Load and preprocess the data\n",
        "data = pd.DataFrame(vectorized_day_dataset_no_nans)\n",
        "scaler = StandardScaler()\n",
        "X_normalized = scaler.fit_transform(data)\n",
        "\n",
        "# Apply PCA for reconstruction\n",
        "pca = PCA(n_components=2)\n",
        "X_dimensionality_reduced = pca.fit_transform(X_normalized)\n",
        "X_reconstructed = pca.inverse_transform(X_dimensionality_reduced)\n",
        "\n",
        "# Calculate reconstruction errors\n",
        "reconstruction_error = np.mean(np.square(X_normalized - X_reconstructed), axis=1)\n",
        "\n",
        "# Set a threshold for the reconstruction error\n",
        "threshold = 1  # Adjust as needed\n",
        "\n",
        "# Identify outliers\n",
        "outliers = np.where(reconstruction_error > threshold)[0]\n",
        "\n",
        "# Visual Inspection of PCA Score Plots\n",
        "pca_scores = pca.fit_transform(X_normalized)\n",
        "\n",
        "plt.figure(figsize=(8, 6))\n",
        "plt.scatter(pca_scores[:, 0], pca_scores[:, 1], c='b', alpha=0.5, label='Normal')\n",
        "plt.scatter(pca_scores[outliers, 0], pca_scores[outliers, 1], c='r', label='Outliers')\n",
        "plt.xlabel('Principal Component 1')\n",
        "plt.ylabel('Principal Component 2')\n",
        "plt.legend()\n",
        "plt.title('PCA Score Plot')\n",
        "plt.show()\n",
        "\n",
        "# Print the indices of detected outliers\n",
        "print(f'Number of detected outliers: {outliers.shape[0]}')\n",
        "print(f'Detected outliers: {outliers}')\n"
      ]
    },
    {
      "cell_type": "markdown",
      "id": "e1e76e0c",
      "metadata": {
        "id": "e1e76e0c"
      },
      "source": [
        "### Using kernel PCA\n",
        "\n",
        "Linear PCA can only find flat planes/hyperplanes of maximum variance. Kernel PCA can find curved surfaces.\n",
        "\n",
        "We will now apply Kernel PCA with an RBF (Radial Basis Function) kernel to see if it can capture the structure of our data differently. The gamma parameter defines how far the influence of a single training example reaches (a key hyperparameter for RBF). Notice that there exist many other functions such as 'linear', 'poly', 'sigmoid'."
      ]
    },
    {
      "cell_type": "code",
      "execution_count": 21,
      "id": "2ee7a3c0",
      "metadata": {
        "id": "2ee7a3c0",
        "outputId": "5a447ada-3ca3-49df-cd6a-2e2fe6a4e786",
        "colab": {
          "base_uri": "https://localhost:8080/",
          "height": 616
        }
      },
      "outputs": [
        {
          "output_type": "display_data",
          "data": {
            "text/plain": [
              "<Figure size 800x600 with 1 Axes>"
            ],
            "image/png": "[encoded data removed]"
          },
          "metadata": {}
        },
        {
          "output_type": "stream",
          "name": "stdout",
          "text": [
            "Number of detected outliers: 19\n",
            "Detected outliers: [  0  40 113 175 176 202 213 218 230 231 248 253 258 279 280 288 299 315\n",
            " 329]\n"
          ]
        }
      ],
      "source": [
        "from sklearn.decomposition import KernelPCA\n",
        "\n",
        "# Load and preprocess the data\n",
        "data = pd.DataFrame(vectorized_day_dataset_no_nans)\n",
        "scaler = StandardScaler()\n",
        "X_normalized = scaler.fit_transform(data)\n",
        "\n",
        "# Step 1: Perform Kernel PCA\n",
        "# Kernel functions : 'linear', 'rbf', 'poly', 'sigmoid'.\n",
        "kpca = KernelPCA(kernel='linear', n_components=2, fit_inverse_transform=True)\n",
        "X_kpca = kpca.fit_transform(X_normalized)\n",
        "\n",
        "# Step 2: Detecting Outliers through Computing Reconstruction Errors\n",
        "# Reconstruct the data from the reduced kernel PCA space\n",
        "X_reconstructed = kpca.inverse_transform(X_kpca)\n",
        "\n",
        "# Calculate the reconstruction error\n",
        "reconstruction_error = np.mean(np.square(X_normalized - X_reconstructed), axis=1)\n",
        "\n",
        "# Define a threshold for outliers\n",
        "threshold = 1  # Adjust as needed\n",
        "kpca_scores = kpca.fit_transform(X_normalized)\n",
        "# Identify outliers\n",
        "outliers = np.where(reconstruction_error > threshold)[0]\n",
        "\n",
        "plt.figure(figsize=(8, 6))\n",
        "plt.scatter(kpca_scores[:, 0], kpca_scores[:, 1], c='b', alpha=0.5, label='Normal')\n",
        "plt.scatter(kpca_scores[outliers, 0], kpca_scores[outliers, 1], c='r', label='Outliers')\n",
        "plt.xlabel('Principal Component 1')\n",
        "plt.ylabel('Principal Component 2')\n",
        "plt.legend()\n",
        "plt.title('KPCA Score Plot')\n",
        "plt.show()\n",
        "# Print the number of detected outliers\n",
        "print(f'Number of detected outliers: {outliers.shape[0]}')\n",
        "print(f'Detected outliers: {outliers}')"
      ]
    },
    {
      "cell_type": "markdown",
      "id": "c897961d",
      "metadata": {
        "id": "c897961d"
      },
      "source": [
        "### **Task 2.1.: Why does the Kernel PCA detects the same outliers as the standard PCA when using a linear kernel?**"
      ]
    },
    {
      "cell_type": "markdown",
      "id": "6bdb138b",
      "metadata": {
        "id": "6bdb138b"
      },
      "source": [
        "### **Task 2.2.: Do you have an idea how we could decide if we should use PCA, kernel PCA and what kernel of kernel PCA?**"
      ]
    },
    {
      "cell_type": "markdown",
      "id": "1f4d51c7",
      "metadata": {
        "id": "1f4d51c7"
      },
      "source": [
        "### Task 3: Identify the underlying latent factors that explain the observed correlations among several variables using FA"
      ]
    },
    {
      "cell_type": "code",
      "execution_count": 22,
      "id": "c7185fa5",
      "metadata": {
        "id": "c7185fa5",
        "outputId": "4ac6f638-3799-49ae-d772-a5e8335c7c11",
        "colab": {
          "base_uri": "https://localhost:8080/",
          "height": 926
        }
      },
      "outputs": [
        {
          "output_type": "stream",
          "name": "stdout",
          "text": [
            "Collecting factor_analyzer\n",
            "  Downloading factor_analyzer-0.5.1.tar.gz (42 kB)\n",
            "\u001b[?25l     \u001b[90m━━━━━━━━━━━━━━━━━━━━━━━━━━━━━━━━━━━━━━━━\u001b[0m \u001b[32m0.0/42.8 kB\u001b[0m \u001b[31m?\u001b[0m eta \u001b[36m-:--:--\u001b[0m\r\u001b[2K     \u001b[90m━━━━━━━━━━━━━━━━━━━━━━━━━━━━━━━━━━━━━━━━\u001b[0m \u001b[32m42.8/42.8 kB\u001b[0m \u001b[31m1.7 MB/s\u001b[0m eta \u001b[36m0:00:00\u001b[0m\n",
            "\u001b[?25h  Installing build dependencies ... \u001b[?25l\u001b[?25hdone\n",
            "  Getting requirements to build wheel ... \u001b[?25l\u001b[?25hdone\n",
            "  Preparing metadata (pyproject.toml) ... \u001b[?25l\u001b[?25hdone\n",
            "Requirement already satisfied: pandas in /usr/local/lib/python3.12/dist-packages (from factor_analyzer) (2.2.2)\n",
            "Requirement already satisfied: scipy in /usr/local/lib/python3.12/dist-packages (from factor_analyzer) (1.16.1)\n",
            "Requirement already satisfied: numpy in /usr/local/lib/python3.12/dist-packages (from factor_analyzer) (2.0.2)\n",
            "Requirement already satisfied: scikit-learn in /usr/local/lib/python3.12/dist-packages (from factor_analyzer) (1.6.1)\n",
            "Requirement already satisfied: python-dateutil>=2.8.2 in /usr/local/lib/python3.12/dist-packages (from pandas->factor_analyzer) (2.9.0.post0)\n",
            "Requirement already satisfied: pytz>=2020.1 in /usr/local/lib/python3.12/dist-packages (from pandas->factor_analyzer) (2025.2)\n",
            "Requirement already satisfied: tzdata>=2022.7 in /usr/local/lib/python3.12/dist-packages (from pandas->factor_analyzer) (2025.2)\n",
            "Requirement already satisfied: joblib>=1.2.0 in /usr/local/lib/python3.12/dist-packages (from scikit-learn->factor_analyzer) (1.5.2)\n",
            "Requirement already satisfied: threadpoolctl>=3.1.0 in /usr/local/lib/python3.12/dist-packages (from scikit-learn->factor_analyzer) (3.6.0)\n",
            "Requirement already satisfied: six>=1.5 in /usr/local/lib/python3.12/dist-packages (from python-dateutil>=2.8.2->pandas->factor_analyzer) (1.17.0)\n",
            "Building wheels for collected packages: factor_analyzer\n",
            "  Building wheel for factor_analyzer (pyproject.toml) ... \u001b[?25l\u001b[?25hdone\n",
            "  Created wheel for factor_analyzer: filename=factor_analyzer-0.5.1-py2.py3-none-any.whl size=42655 sha256=26f373939c1a17bd562a4426dfdc527eb956c9b650d869628102ce3b11c25936\n",
            "  Stored in directory: /root/.cache/pip/wheels/a2/af/06/f4d4ed4d9d714fda437fb1583629417319603c2266e7b233cc\n",
            "Successfully built factor_analyzer\n",
            "Installing collected packages: factor_analyzer\n",
            "Successfully installed factor_analyzer-0.5.1\n"
          ]
        },
        {
          "output_type": "stream",
          "name": "stderr",
          "text": [
            "/usr/local/lib/python3.12/dist-packages/sklearn/utils/deprecation.py:151: FutureWarning: 'force_all_finite' was renamed to 'ensure_all_finite' in 1.6 and will be removed in 1.8.\n",
            "  warnings.warn(\n"
          ]
        },
        {
          "output_type": "display_data",
          "data": {
            "text/plain": [
              "<Figure size 640x480 with 1 Axes>"
            ],
            "image/png": "[encoded data removed]"
          },
          "metadata": {}
        }
      ],
      "source": [
        "import pandas as pd\n",
        "import numpy as np\n",
        "from sklearn.datasets import make_classification\n",
        "!pip install factor_analyzer\n",
        "from factor_analyzer import FactorAnalyzer\n",
        "import matplotlib.pyplot as plt\n",
        "from factor_analyzer.factor_analyzer import calculate_bartlett_sphericity, calculate_kmo\n",
        "\n",
        "# Step 1: Data Preprocessing\n",
        "# Load and preprocess the data\n",
        "data = pd.read_csv('Dataset 2.csv')\n",
        "\n",
        "# Step 2: Exploratory Factor Analysis\n",
        "# Initialize FactorAnalyzer object\n",
        "fa = FactorAnalyzer()\n",
        "\n",
        "# # Experiment with different rotation methods (e.g., Varimax, Promax, and Oblimin)\n",
        "# # Varimax Rotation\n",
        "# fa.set_params(rotation='varimax')\n",
        "# fa.fit(data)\n",
        "\n",
        "# # Promax Rotation\n",
        "# fa.set_params(rotation='promax')\n",
        "# fa.fit(data)\n",
        "\n",
        "# # Oblimin Rotation\n",
        "fa.set_params(rotation='oblimin')\n",
        "fa.fit(data)\n",
        "\n",
        "# Step 3: Determine the Number of Factors\n",
        "# Kaiser's Criterion\n",
        "eigenvalues, _ = fa.get_eigenvalues()\n",
        "num_factors_kaiser = sum(eigenvalues > 1)  # Select factors with eigenvalues > 1\n",
        "\n",
        "# Scree Plot Examination\n",
        "plt.scatter(range(1, data.shape[1]+1), eigenvalues)\n",
        "plt.plot(range(1, data.shape[1]+1), eigenvalues)\n",
        "plt.title('Scree Plot')\n",
        "plt.xlabel('Factor Number')\n",
        "plt.ylabel('Eigenvalue')\n",
        "plt.show()"
      ]
    },
    {
      "cell_type": "markdown",
      "id": "0eae4e50",
      "metadata": {
        "id": "0eae4e50"
      },
      "source": [
        "### **Task 3.1.: Identify how many factors are in the dataset**"
      ]
    },
    {
      "cell_type": "code",
      "execution_count": 23,
      "id": "4f09985c",
      "metadata": {
        "id": "4f09985c",
        "outputId": "10b9a320-c35a-45d6-f754-b9a2d055908a",
        "colab": {
          "base_uri": "https://localhost:8080/"
        }
      },
      "outputs": [
        {
          "output_type": "stream",
          "name": "stdout",
          "text": [
            "Factor Loadings:                      Factor 1  Factor 2  Factor 3  Factor 4  Factor 5\n",
            "Price                0.578931  0.234152 -0.108803 -0.005588 -0.069328\n",
            "Safety              -0.306536  0.229736  0.167865  0.065558 -0.243916\n",
            "Exterior_Looks       0.090185  0.050722  0.026241 -0.542464  0.312042\n",
            "Space_comfort       -0.022750  0.881709  0.041921 -0.055038  0.034016\n",
            "Technology           0.000961  0.278548  0.140475  0.061123  0.005776\n",
            "After_Sales_Service -0.012211  0.040035  0.946527 -0.005035 -0.009768\n",
            "Resale_Value         0.725386 -0.204593  0.081064 -0.052370 -0.102032\n",
            "Fuel_Type            0.025645  0.517666  0.107412  0.017839 -0.134947\n",
            "Fuel_Efficiency      0.381540  0.007924  0.329103  0.226688  0.216041\n",
            "Color                0.033070 -0.052346  0.016076  0.783525  0.090678\n",
            "Maintenance          0.552883  0.114794 -0.007430  0.263017  0.006467\n",
            "Test_drive           0.059225 -0.017722  0.234800 -0.063657  0.438696\n",
            "Product_reviews      0.331873  0.245901 -0.077326  0.123717  0.351592\n",
            "Testimonials        -0.233455  0.039087 -0.035677  0.078491  0.627388\n",
            "\n",
            "Bartlett's Test Statistic: 247.7095010748493\n",
            "P-value: 1.9300708881452006e-16\n",
            "KMO Score: (array([0.71918544, 0.47109863, 0.54865312, 0.60631158, 0.64631715,\n",
            "       0.62337744, 0.63413337, 0.6756825 , 0.62321522, 0.55717728,\n",
            "       0.6119685 , 0.63974079, 0.6915475 , 0.50455623]), np.float64(0.6144509968564967))\n"
          ]
        },
        {
          "output_type": "stream",
          "name": "stderr",
          "text": [
            "/usr/local/lib/python3.12/dist-packages/sklearn/utils/deprecation.py:151: FutureWarning: 'force_all_finite' was renamed to 'ensure_all_finite' in 1.6 and will be removed in 1.8.\n",
            "  warnings.warn(\n"
          ]
        }
      ],
      "source": [
        "# Step 4: Compute Factor Loadings\n",
        "fa.set_params(n_factors=num_factors_kaiser)  # Use the determined number of factors\n",
        "fa.fit(data)\n",
        "factor_loadings = fa.loadings_\n",
        "\n",
        "# Step 5: Interpret the Factors\n",
        "# (Based on factor loadings and variable names)\n",
        "# Provide meaningful labels/names to the identified factors based on interpretation\n",
        "factor_names = [f\"Factor {id+1}\" for id in range(0,num_factors_kaiser)]  # Adapt as needed\n",
        "\n",
        "# Print factor loadings\n",
        "factor_loadings = pd.DataFrame(factor_loadings, index=data.columns, columns=factor_names)\n",
        "print(\"Factor Loadings:\", factor_loadings)\n",
        "# print(pd.DataFrame(factor_loadings, index=data.columns, columns=factor_names))\n",
        "\n",
        "# You can further interpret and label the factors based on the loadings and variable names.\n",
        "\n",
        "# Additional: Assessing Factorability\n",
        "bartlett_test_statistic, p_value = calculate_bartlett_sphericity(data)\n",
        "kmo_score = calculate_kmo(data)\n",
        "\n",
        "print(f\"\\nBartlett's Test Statistic: {bartlett_test_statistic}\")\n",
        "print(f\"P-value: {p_value}\")\n",
        "print(f\"KMO Score: {kmo_score}\")"
      ]
    },
    {
      "cell_type": "markdown",
      "id": "cea27c83",
      "metadata": {
        "id": "cea27c83"
      },
      "source": [
        "### **Task 3.2. By analysing the factor loadings, specify for each factor what variables it influences**\n",
        "\n",
        "E.g.,: Factor 1: Var 1, Var 2, ..."
      ]
    },
    {
      "cell_type": "markdown",
      "id": "988bea92",
      "metadata": {
        "id": "988bea92"
      },
      "source": [
        "### **Task 3.3: Compare the performance of PCA and kernel PCA for dimensionality reduction in dataset 1**\n",
        "\n",
        "**Your task is to do the following:**\n",
        "\n",
        "- Experiment with different kernel functions (e.g., Gaussian, polynomial, etc.) and assess their performance for dimensionality reduction.\n",
        "- Pick the most suitable kernel function to perform kernel PCA for dimensionality reduction of dataset 1.\n",
        "- Compare the performance of kernel PCA with PCA (baseline from practice task 1) for dimensionality reduction in dataset 1 and propose a suitable method to perform dimensionality reduction in dataset 1.\n",
        "- Provide a reflection on the dimensionality reduction results obtained using PCA and kernel PCA. Was PCA sufficient to capture the data’s structure? Which one would you choose to perform your dimensionality reduction task and why?"
      ]
    },
    {
      "cell_type": "code",
      "execution_count": 24,
      "id": "2dd6a0c6",
      "metadata": {
        "id": "2dd6a0c6",
        "outputId": "ebe9b166-ca79-4af3-dcab-ba4000186a5e",
        "colab": {
          "base_uri": "https://localhost:8080/",
          "height": 430
        }
      },
      "outputs": [
        {
          "output_type": "execute_result",
          "data": {
            "text/plain": [
              "Text(0.5, 1.0, 'Kernel PCA (Polynomial)')"
            ]
          },
          "metadata": {},
          "execution_count": 24
        },
        {
          "output_type": "display_data",
          "data": {
            "text/plain": [
              "<Figure size 2000x800 with 3 Axes>"
            ],
            "image/png": "[encoded data removed]"
          },
          "metadata": {}
        }
      ],
      "source": [
        "from sklearn.decomposition import PCA, KernelPCA\n",
        "import matplotlib.pyplot as plt\n",
        "\n",
        "input_df = pd.DataFrame(vectorized_day_dataset_no_nans)\n",
        "scaler = StandardScaler()\n",
        "data_scaled = scaler.fit_transform(input_df)\n",
        "\n",
        "# Step 1: Perform PCA for dimensionality reduction\n",
        "pca = PCA(n_components=2)  # Set the desired number of components\n",
        "pca_result = pca.fit_transform(data_scaled)\n",
        "\n",
        "# Step 2: Perform Kernel PCA with different kernel functions\n",
        "# kernel functions : 'linear', 'rbf', 'poly', 'sigmoid'\n",
        "\n",
        "kernel_pca_gaussian = KernelPCA(kernel='rbf', n_components=2)  # Gaussian kernel\n",
        "kernel_pca_polynomial = KernelPCA(kernel='poly', n_components=2)  # Polynomial kernel\n",
        "\n",
        "kpca_gaussian_result = kernel_pca_gaussian.fit_transform(data_scaled)\n",
        "kpca_polynomial_result = kernel_pca_polynomial.fit_transform(data_scaled)\n",
        "\n",
        "# Plot the different PCA functions\n",
        "plt.figure(figsize=(20, 8))\n",
        "plt.subplot(1, 3, 1)\n",
        "plt.scatter(pca_result[:, 0], pca_result[:, 1], c='b', marker='o', alpha=0.7)\n",
        "plt.title('PCA')\n",
        "\n",
        "plt.subplot(1, 3, 2)\n",
        "plt.scatter(kpca_gaussian_result[:, 0], kpca_gaussian_result[:, 1], c='r', marker='o', alpha=0.7)\n",
        "plt.title('Kernel PCA (Gaussian)')\n",
        "\n",
        "plt.subplot(1, 3, 3)\n",
        "plt.scatter(kpca_polynomial_result[:, 0], kpca_polynomial_result[:, 1], c='b', marker='o', alpha=0.7)\n",
        "plt.title('Kernel PCA (Polynomial)')\n"
      ]
    },
    {
      "cell_type": "code",
      "source": [],
      "metadata": {
        "id": "_F3ig3XHQHCv"
      },
      "id": "_F3ig3XHQHCv",
      "execution_count": null,
      "outputs": []
    }
  ],
  "metadata": {
    "kernelspec": {
      "display_name": "Python 3 (Spyder)",
      "language": "python3",
      "name": "python3"
    },
    "language_info": {
      "codemirror_mode": {
        "name": "ipython",
        "version": 3
      },
      "file_extension": ".py",
      "mimetype": "text/x-python",
      "name": "python",
      "nbconvert_exporter": "python",
      "pygments_lexer": "ipython3",
      "version": "3.11.10"
    },
    "colab": {
      "provenance": [],
      "include_colab_link": true
    }
  },
  "nbformat": 4,
  "nbformat_minor": 5
}